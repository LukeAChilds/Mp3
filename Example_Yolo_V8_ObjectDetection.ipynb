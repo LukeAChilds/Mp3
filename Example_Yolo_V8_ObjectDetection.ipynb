{
 "cells": [
  {
   "cell_type": "markdown",
   "id": "8b2b4716-8a1f-4f8b-910a-fe48a54a1979",
   "metadata": {},
   "source": [
    "#### Yolo for object detection in images ####\n",
    "\n",
    "_pip install ultralytics_"
   ]
  },
  {
   "cell_type": "code",
   "execution_count": 1,
   "id": "633f320e-36c6-45bf-9f58-b08671ef7c87",
   "metadata": {
    "jupyter": {
     "source_hidden": true
    },
    "tags": []
   },
   "outputs": [],
   "source": [
    "from ultralytics import YOLO\n",
    "from PIL import Image\n",
    "\n",
    "import warnings\n",
    "warnings.filterwarnings('ignore')"
   ]
  },
  {
   "cell_type": "code",
   "execution_count": 2,
   "id": "dfa5e3df-c970-4e32-ad8d-b1554220c60a",
   "metadata": {
    "jupyter": {
     "source_hidden": true
    },
    "tags": []
   },
   "outputs": [
    {
     "name": "stdout",
     "output_type": "stream",
     "text": [
      "Downloading https://github.com/ultralytics/assets/releases/download/v8.2.0/yolov8n.pt to 'yolov8n.pt'...\n"
     ]
    },
    {
     "name": "stderr",
     "output_type": "stream",
     "text": [
      "100%|██████████| 6.25M/6.25M [00:00<00:00, 32.6MB/s]\n"
     ]
    }
   ],
   "source": [
    "# Load a pretrained YOLOv8n model\n",
    "model = YOLO('yolov8n.pt')\n",
    "\n",
    "# Run inference on 'bus.jpg'\n",
    "results = model('bus.jpg',verbose=False)  # results list"
   ]
  },
  {
   "cell_type": "code",
   "execution_count": 3,
   "id": "a7721c0b",
   "metadata": {
    "jupyter": {
     "source_hidden": true
    },
    "tags": []
   },
   "outputs": [],
   "source": [
    "# Save results as image\n",
    "for r in results:\n",
    "    im_array = r.plot()  # plot a BGR numpy array of predictions\n",
    "    im = Image.fromarray(im_array[..., ::-1])  # RGB PIL image\n",
    "    #im.show()  # show image\n",
    "    im.save('results.png')  # save image"
   ]
  },
  {
   "cell_type": "code",
   "execution_count": 4,
   "id": "4baf5e6f",
   "metadata": {
    "jupyter": {
     "source_hidden": true
    },
    "tags": []
   },
   "outputs": [
    {
     "name": "stdout",
     "output_type": "stream",
     "text": [
      "['bus', 'person', 'person', 'person', 'stop sign', 'person']\n"
     ]
    }
   ],
   "source": [
    "# Get predicted classes\n",
    "predclass = []\n",
    "for result in results:                                         # iterate results\n",
    "    boxes = result.boxes.cpu().numpy()                         # get boxes on cpu in numpy\n",
    "    for box in boxes:                                          # iterate boxes\n",
    "        predclass.append(result.names[int(box.cls[0])])      # Get predicted classes\n",
    "print(predclass)"
   ]
  },
  {
   "cell_type": "code",
   "execution_count": null,
   "id": "d0e22c91",
   "metadata": {},
   "outputs": [],
   "source": []
  }
 ],
 "metadata": {
  "kernelspec": {
   "display_name": "Mp3",
   "language": "python",
   "name": "python3"
  },
  "language_info": {
   "codemirror_mode": {
    "name": "ipython",
    "version": 3
   },
   "file_extension": ".py",
   "mimetype": "text/x-python",
   "name": "python",
   "nbconvert_exporter": "python",
   "pygments_lexer": "ipython3",
   "version": "3.12.4"
  }
 },
 "nbformat": 4,
 "nbformat_minor": 5
}
